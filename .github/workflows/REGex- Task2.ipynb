{
 "cells": [
  {
   "cell_type": "markdown",
   "id": "bf4f447f",
   "metadata": {},
   "source": [
    "# Task 2 \n",
    "\n",
    "# Registration Id :- SIRSS1085\n",
    "\n",
    "# Name : Harsha Kumari\n"
   ]
  },
  {
   "cell_type": "markdown",
   "id": "35dd33ef",
   "metadata": {},
   "source": [
    "# Q1. Write a lambda expression to extract first word of a string."
   ]
  },
  {
   "cell_type": "code",
   "execution_count": 43,
   "id": "b1a398a3",
   "metadata": {},
   "outputs": [
    {
     "name": "stdout",
     "output_type": "stream",
     "text": [
      "enter stringtoday is a rainy day\n",
      "today\n"
     ]
    }
   ],
   "source": [
    "s= lambda x: x[:x.index(' ')]\n",
    "k=input(\"enter string\")\n",
    "print(s(k))"
   ]
  },
  {
   "cell_type": "markdown",
   "id": "51eab294",
   "metadata": {},
   "source": [
    "# Q2. Write a function to extract first word of s string (with many words separated by space)."
   ]
  },
  {
   "cell_type": "code",
   "execution_count": 44,
   "id": "3b4b8499",
   "metadata": {},
   "outputs": [
    {
     "name": "stdout",
     "output_type": "stream",
     "text": [
      "enter str corona is a deadly virus\n"
     ]
    },
    {
     "data": {
      "text/plain": [
       "'corona'"
      ]
     },
     "execution_count": 44,
     "metadata": {},
     "output_type": "execute_result"
    }
   ],
   "source": [
    "def fun1(x):\n",
    "    return x[:x.index(' ')]\n",
    "\n",
    "str=input(\"enter str \")\n",
    "fun1(str)"
   ]
  },
  {
   "cell_type": "markdown",
   "id": "b8701054",
   "metadata": {},
   "source": [
    "# Q3.Extract the first word from every string from a list of strings by using map function."
   ]
  },
  {
   "cell_type": "code",
   "execution_count": 45,
   "id": "ae7512ed",
   "metadata": {},
   "outputs": [
    {
     "name": "stdout",
     "output_type": "stream",
     "text": [
      "enter number of strings to be entered 3\n",
      "enter a string  world is going through pandemic\n",
      "enter a string  we need to be cautious\n",
      "enter a string  vaccination is necessary\n",
      "list of strings ['world is going through pandemic', 'we need to be cautious', 'vaccination is necessary']\n",
      "['world', 'we', 'vaccination']\n"
     ]
    }
   ],
   "source": [
    "l=[]\n",
    "n=int(input(\"enter number of strings to be entered \"))\n",
    "\n",
    "\n",
    "for i in range(n):\n",
    "   strr=input(\"enter a string  \")\n",
    "   l.append(strr)\n",
    "      \n",
    "def fun1(x):\n",
    "    return x[:x.index(' ')]\n",
    "\n",
    "print(\"list of strings\" ,end=' ')\n",
    "print(l)      \n",
    "result=map(fun1,l)\n",
    "print(list(result))\n"
   ]
  },
  {
   "cell_type": "markdown",
   "id": "98505219",
   "metadata": {},
   "source": [
    "# Q4. Write a function to return a list of prime factors of a given number."
   ]
  },
  {
   "cell_type": "code",
   "execution_count": 46,
   "id": "42699e6c",
   "metadata": {},
   "outputs": [
    {
     "name": "stdout",
     "output_type": "stream",
     "text": [
      "enter a no :56\n"
     ]
    },
    {
     "data": {
      "text/plain": [
       "[2, 2, 2, 7]"
      ]
     },
     "execution_count": 46,
     "metadata": {},
     "output_type": "execute_result"
    }
   ],
   "source": [
    "def prime_factors(n):\n",
    "    i = 2\n",
    "    factors = []\n",
    "    while i * i <= n:\n",
    "        if n % i:\n",
    "            i += 1\n",
    "        else:\n",
    "            n //= i\n",
    "            factors.append(i)\n",
    "    if n > 1:\n",
    "        factors.append(n)\n",
    "    return factors\n",
    "n=int(input(\"enter a no :\"))\n",
    "prime_factors(n)"
   ]
  },
  {
   "cell_type": "markdown",
   "id": "a337cb3e",
   "metadata": {},
   "source": [
    "# Q5. Write a function that finds 2nd largest among 4 numbers (Repetitions are allowed,without sorting)."
   ]
  },
  {
   "cell_type": "code",
   "execution_count": 47,
   "id": "d7040fce",
   "metadata": {},
   "outputs": [
    {
     "name": "stdout",
     "output_type": "stream",
     "text": [
      "Enter number 54\n",
      "Enter number 7\n",
      "Enter number 34\n",
      "Enter number 98\n",
      "[54, 7, 34, 98]\n",
      "largest: 98\n",
      "second_largest: 54\n"
     ]
    }
   ],
   "source": [
    "def second_large(lst):\n",
    "      largest = None\n",
    "      second_largest = None\n",
    "      for a in lst:\n",
    "          if not largest or a > largest:\n",
    "               if largest:\n",
    "                  second_largest = largest\n",
    "               largest = a\n",
    "\n",
    "      print(\"largest: {}\".format(largest))\n",
    "      print(\"second_largest: {}\".format(second_largest))\n",
    "\n",
    "l=[]\n",
    "for i in range(0,4):\n",
    "    n=int(input(\"Enter number \"))\n",
    "    l.append(n)\n",
    "    \n",
    "print(l)\n",
    "second_large(l)\n",
    " "
   ]
  },
  {
   "cell_type": "markdown",
   "id": "94a8bf02",
   "metadata": {},
   "source": []
  }
 ],
 "metadata": {
  "kernelspec": {
   "display_name": "Python 3",
   "language": "python",
   "name": "python3"
  },
  "language_info": {
   "codemirror_mode": {
    "name": "ipython",
    "version": 3
   },
   "file_extension": ".py",
   "mimetype": "text/x-python",
   "name": "python",
   "nbconvert_exporter": "python",
   "pygments_lexer": "ipython3",
   "version": "3.9.1"
  }
 },
 "nbformat": 4,
 "nbformat_minor": 5
}
